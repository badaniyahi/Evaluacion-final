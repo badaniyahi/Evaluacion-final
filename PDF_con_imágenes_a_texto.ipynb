{
  "nbformat": 4,
  "nbformat_minor": 0,
  "metadata": {
    "colab": {
      "provenance": [],
      "gpuType": "T4",
      "mount_file_id": "19SsZxCMJtF2ee2gyH5BFVISFfCXOm1Zj",
      "authorship_tag": "ABX9TyPyr24ugScsR9k++ScASC3M",
      "include_colab_link": true
    },
    "kernelspec": {
      "name": "python3",
      "display_name": "Python 3"
    },
    "language_info": {
      "name": "python"
    },
    "accelerator": "GPU"
  },
  "cells": [
    {
      "cell_type": "markdown",
      "metadata": {
        "id": "view-in-github",
        "colab_type": "text"
      },
      "source": [
        "<a href=\"https://colab.research.google.com/github/badaniyahi/Evaluacion-final/blob/main/PDF_con_im%C3%A1genes_a_texto.ipynb\" target=\"_parent\"><img src=\"https://colab.research.google.com/assets/colab-badge.svg\" alt=\"Open In Colab\"/></a>"
      ]
    },
    {
      "cell_type": "code",
      "execution_count": 3,
      "metadata": {
        "colab": {
          "base_uri": "https://localhost:8080/"
        },
        "id": "z3PfALe3HCGZ",
        "outputId": "10be11ce-40f4-4b3d-e7db-2c4c17911216"
      },
      "outputs": [
        {
          "output_type": "stream",
          "name": "stdout",
          "text": [
            "Collecting PyPDF2\n",
            "  Downloading pypdf2-3.0.1-py3-none-any.whl.metadata (6.8 kB)\n",
            "Downloading pypdf2-3.0.1-py3-none-any.whl (232 kB)\n",
            "\u001b[?25l   \u001b[90m━━━━━━━━━━━━━━━━━━━━━━━━━━━━━━━━━━━━━━━━\u001b[0m \u001b[32m0.0/232.6 kB\u001b[0m \u001b[31m?\u001b[0m eta \u001b[36m-:--:--\u001b[0m\r\u001b[2K   \u001b[90m━━━━━━━━━━━━━━━━━━━━━━━━━━━━━━━━━━━━━━━━\u001b[0m \u001b[32m232.6/232.6 kB\u001b[0m \u001b[31m15.1 MB/s\u001b[0m eta \u001b[36m0:00:00\u001b[0m\n",
            "\u001b[?25hInstalling collected packages: PyPDF2\n",
            "Successfully installed PyPDF2-3.0.1\n"
          ]
        }
      ],
      "source": [
        "pip install PyPDF2"
      ]
    },
    {
      "cell_type": "code",
      "source": [
        "!pip install pdf2image"
      ],
      "metadata": {
        "colab": {
          "base_uri": "https://localhost:8080/"
        },
        "id": "M5YdeGYKHxxh",
        "outputId": "6926c0ea-398c-4c39-9a61-8ae711166e28"
      },
      "execution_count": 4,
      "outputs": [
        {
          "output_type": "stream",
          "name": "stdout",
          "text": [
            "Collecting pdf2image\n",
            "  Downloading pdf2image-1.17.0-py3-none-any.whl.metadata (6.2 kB)\n",
            "Requirement already satisfied: pillow in /usr/local/lib/python3.10/dist-packages (from pdf2image) (9.4.0)\n",
            "Downloading pdf2image-1.17.0-py3-none-any.whl (11 kB)\n",
            "Installing collected packages: pdf2image\n",
            "Successfully installed pdf2image-1.17.0\n"
          ]
        }
      ]
    },
    {
      "cell_type": "code",
      "source": [
        "!apt-get install poppler-utils\n",
        "!pip install pytesseract # use pip to install python modules\n",
        "import pytesseract\n",
        "from pdf2image import convert_from_path\n",
        "import os\n",
        "\n",
        "def pdf_a_texto_ocr(ruta_pdf, ruta_salida='output_text.txt'):\n",
        "    # Convertir el PDF a imágenes, una por cada página\n",
        "    paginas = convert_from_path(ruta_pdf)\n",
        "\n",
        "    # Inicializar una variable para almacenar el texto extraído\n",
        "    texto_extraido = \"\"\n",
        "\n",
        "    # Iterar sobre las imágenes generadas\n",
        "    for i, pagina in enumerate(paginas):\n",
        "        # Usar OCR para extraer el texto de la imagen\n",
        "        texto = pytesseract.image_to_string(pagina)\n",
        "        texto_extraido += texto\n",
        "\n",
        "    # Guardar el texto extraído en un archivo de texto\n",
        "    with open(ruta_salida, 'w') as archivo_texto:\n",
        "        archivo_texto.write(texto_extraido)\n",
        "\n",
        "    print(f'Texto extraído y guardado en {ruta_salida}')\n",
        "\n",
        "# Especifica la ruta de tu archivo PDF\n",
        "ruta_pdf = \"/content/PTQ Q2 2021-47-53.pdf\"\n",
        "\n",
        "# Llamar a la función para extraer el texto usando OCR\n",
        "pdf_a_texto_ocr(ruta_pdf)\n",
        "\n",
        "# After running the code above, run this to check the location of tesseract\n",
        "!which tesseract"
      ],
      "metadata": {
        "colab": {
          "base_uri": "https://localhost:8080/"
        },
        "id": "PLDIgVCEHSfh",
        "outputId": "819694c2-f556-4108-f525-042510222ece"
      },
      "execution_count": 6,
      "outputs": [
        {
          "output_type": "stream",
          "name": "stdout",
          "text": [
            "Reading package lists... Done\n",
            "Building dependency tree... Done\n",
            "Reading state information... Done\n",
            "The following NEW packages will be installed:\n",
            "  poppler-utils\n",
            "0 upgraded, 1 newly installed, 0 to remove and 49 not upgraded.\n",
            "Need to get 186 kB of archives.\n",
            "After this operation, 696 kB of additional disk space will be used.\n",
            "Get:1 http://archive.ubuntu.com/ubuntu jammy-updates/main amd64 poppler-utils amd64 22.02.0-2ubuntu0.5 [186 kB]\n",
            "Fetched 186 kB in 1s (187 kB/s)\n",
            "Selecting previously unselected package poppler-utils.\n",
            "(Reading database ... 123777 files and directories currently installed.)\n",
            "Preparing to unpack .../poppler-utils_22.02.0-2ubuntu0.5_amd64.deb ...\n",
            "Unpacking poppler-utils (22.02.0-2ubuntu0.5) ...\n",
            "Setting up poppler-utils (22.02.0-2ubuntu0.5) ...\n",
            "Processing triggers for man-db (2.10.2-1) ...\n",
            "Requirement already satisfied: pytesseract in /usr/local/lib/python3.10/dist-packages (0.3.13)\n",
            "Requirement already satisfied: packaging>=21.3 in /usr/local/lib/python3.10/dist-packages (from pytesseract) (24.1)\n",
            "Requirement already satisfied: Pillow>=8.0.0 in /usr/local/lib/python3.10/dist-packages (from pytesseract) (9.4.0)\n",
            "Texto extraído y guardado en output_text.txt\n",
            "/usr/bin/tesseract\n"
          ]
        }
      ]
    }
  ]
}